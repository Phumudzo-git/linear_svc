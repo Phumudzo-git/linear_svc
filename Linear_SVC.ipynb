{
 "cells": [
  {
   "cell_type": "code",
   "execution_count": 35,
   "metadata": {},
   "outputs": [],
   "source": [
    "import pandas as pd\n",
    "import numpy as np\n",
    "from sklearn.feature_extraction.text import CountVectorizer\n",
    "from sklearn.feature_extraction.text import TfidfVectorizer\n",
    "from sklearn.feature_extraction.text import TfidfTransformer\n",
    "from sklearn.model_selection import train_test_split\n",
    "from sklearn.metrics import accuracy_score\n",
    "from sklearn.metrics import classification_report\n",
    "from sklearn.metrics import confusion_matrix\n",
    "from sklearn.svm import LinearSVC\n",
    "from imblearn.over_sampling import SMOTE,RandomOverSampler\n",
    "import pickle\n",
    "from nltk.tokenize import WordPunctTokenizer\n",
    "from sklearn.utils import resample"
   ]
  },
  {
   "cell_type": "code",
   "execution_count": 36,
   "metadata": {},
   "outputs": [],
   "source": [
    "data = './lang_data.csv'\n",
    "df = pd.read_csv(data, encoding = 'ISO-8859-1')"
   ]
  },
  {
   "cell_type": "code",
   "execution_count": 37,
   "metadata": {},
   "outputs": [
    {
     "name": "stdout",
     "output_type": "stream",
     "text": [
      "                                                   text   language\n",
      "0                        Ship shape and Bristol fashion    English\n",
      "1                                        Know the ropes    English\n",
      "2                                       Graveyard shift    English\n",
      "3                                Milk of human kindness    English\n",
      "4                    Touch with a barge-pole - Wouldn't    English\n",
      "...                                                 ...        ...\n",
      "2834                        Daarâs ân geurtjie aan.  Afrikaans\n",
      "2835  Men's evil manners live in brass; their virtue...    English\n",
      "2836                                          Go-faster    English\n",
      "2837                                           Red tape    English\n",
      "2838                                        In a pickle    English\n",
      "\n",
      "[2839 rows x 2 columns]\n"
     ]
    }
   ],
   "source": [
    "print(df)"
   ]
  },
  {
   "cell_type": "code",
   "execution_count": 38,
   "metadata": {},
   "outputs": [
    {
     "data": {
      "text/html": [
       "<div>\n",
       "<style scoped>\n",
       "    .dataframe tbody tr th:only-of-type {\n",
       "        vertical-align: middle;\n",
       "    }\n",
       "\n",
       "    .dataframe tbody tr th {\n",
       "        vertical-align: top;\n",
       "    }\n",
       "\n",
       "    .dataframe thead th {\n",
       "        text-align: right;\n",
       "    }\n",
       "</style>\n",
       "<table border=\"1\" class=\"dataframe\">\n",
       "  <thead>\n",
       "    <tr style=\"text-align: right;\">\n",
       "      <th></th>\n",
       "      <th>text</th>\n",
       "      <th>language</th>\n",
       "    </tr>\n",
       "  </thead>\n",
       "  <tbody>\n",
       "    <tr>\n",
       "      <th>2732</th>\n",
       "      <td>A priori</td>\n",
       "      <td>English</td>\n",
       "    </tr>\n",
       "    <tr>\n",
       "      <th>2607</th>\n",
       "      <td>Great minds think alike</td>\n",
       "      <td>English</td>\n",
       "    </tr>\n",
       "    <tr>\n",
       "      <th>1653</th>\n",
       "      <td>Zoals de waard is, vertrouwt hij zijn gasten.</td>\n",
       "      <td>Nederlands</td>\n",
       "    </tr>\n",
       "    <tr>\n",
       "      <th>835</th>\n",
       "      <td>Bag and baggage</td>\n",
       "      <td>English</td>\n",
       "    </tr>\n",
       "    <tr>\n",
       "      <th>763</th>\n",
       "      <td>Below the belt</td>\n",
       "      <td>English</td>\n",
       "    </tr>\n",
       "    <tr>\n",
       "      <th>...</th>\n",
       "      <td>...</td>\n",
       "      <td>...</td>\n",
       "    </tr>\n",
       "    <tr>\n",
       "      <th>508</th>\n",
       "      <td>Fall off the back of a lorry</td>\n",
       "      <td>English</td>\n",
       "    </tr>\n",
       "    <tr>\n",
       "      <th>2208</th>\n",
       "      <td>Geld groei nie op my rug nie.</td>\n",
       "      <td>Afrikaans</td>\n",
       "    </tr>\n",
       "    <tr>\n",
       "      <th>2273</th>\n",
       "      <td>De puntjes op de i zetten.</td>\n",
       "      <td>Nederlands</td>\n",
       "    </tr>\n",
       "    <tr>\n",
       "      <th>1446</th>\n",
       "      <td>Chickens come home to roost</td>\n",
       "      <td>English</td>\n",
       "    </tr>\n",
       "    <tr>\n",
       "      <th>2628</th>\n",
       "      <td>Christmas card verses</td>\n",
       "      <td>English</td>\n",
       "    </tr>\n",
       "  </tbody>\n",
       "</table>\n",
       "<p>2839 rows × 2 columns</p>\n",
       "</div>"
      ],
      "text/plain": [
       "                                               text    language\n",
       "2732                                       A priori     English\n",
       "2607                        Great minds think alike     English\n",
       "1653  Zoals de waard is, vertrouwt hij zijn gasten.  Nederlands\n",
       "835                                 Bag and baggage     English\n",
       "763                                  Below the belt     English\n",
       "...                                             ...         ...\n",
       "508                    Fall off the back of a lorry     English\n",
       "2208                  Geld groei nie op my rug nie.   Afrikaans\n",
       "2273                     De puntjes op de i zetten.  Nederlands\n",
       "1446                    Chickens come home to roost     English\n",
       "2628                          Christmas card verses     English\n",
       "\n",
       "[2839 rows x 2 columns]"
      ]
     },
     "execution_count": 38,
     "metadata": {},
     "output_type": "execute_result"
    }
   ],
   "source": [
    "#Resample data\n",
    "df=resample(df, random_state=0)\n",
    "df"
   ]
  },
  {
   "cell_type": "code",
   "execution_count": 39,
   "metadata": {},
   "outputs": [
    {
     "data": {
      "text/plain": [
       "English       2007\n",
       "Afrikaans      710\n",
       "Nederlands     122\n",
       "Name: language, dtype: int64"
      ]
     },
     "execution_count": 39,
     "metadata": {},
     "output_type": "execute_result"
    }
   ],
   "source": [
    "# Checking the distribution of classes\n",
    "df['language'].value_counts()"
   ]
  },
  {
   "cell_type": "code",
   "execution_count": 40,
   "metadata": {},
   "outputs": [
    {
     "data": {
      "text/plain": [
       "text        94\n",
       "language     0\n",
       "dtype: int64"
      ]
     },
     "execution_count": 40,
     "metadata": {},
     "output_type": "execute_result"
    }
   ],
   "source": [
    "#Checking null entries\n",
    "df.isnull().sum(axis = 0)"
   ]
  },
  {
   "cell_type": "code",
   "execution_count": 41,
   "metadata": {},
   "outputs": [
    {
     "data": {
      "text/plain": [
       "94"
      ]
     },
     "execution_count": 41,
     "metadata": {},
     "output_type": "execute_result"
    }
   ],
   "source": [
    "# Checking null entries\n",
    "df['text'].isnull().sum()"
   ]
  },
  {
   "cell_type": "code",
   "execution_count": 42,
   "metadata": {},
   "outputs": [
    {
     "data": {
      "text/plain": [
       "0"
      ]
     },
     "execution_count": 42,
     "metadata": {},
     "output_type": "execute_result"
    }
   ],
   "source": [
    "#Checking null entries\n",
    "df['language'].isnull().sum()"
   ]
  },
  {
   "cell_type": "code",
   "execution_count": 43,
   "metadata": {},
   "outputs": [],
   "source": [
    "# Remove any null entries\n",
    "df.dropna(inplace=True)"
   ]
  },
  {
   "cell_type": "code",
   "execution_count": 44,
   "metadata": {},
   "outputs": [
    {
     "data": {
      "text/plain": [
       "0"
      ]
     },
     "execution_count": 44,
     "metadata": {},
     "output_type": "execute_result"
    }
   ],
   "source": [
    "df['text'].isnull().sum()"
   ]
  },
  {
   "cell_type": "code",
   "execution_count": 45,
   "metadata": {},
   "outputs": [
    {
     "data": {
      "text/plain": [
       "English       1984\n",
       "Afrikaans      679\n",
       "Nederlands      82\n",
       "Name: language, dtype: int64"
      ]
     },
     "execution_count": 45,
     "metadata": {},
     "output_type": "execute_result"
    }
   ],
   "source": [
    "#Checking the distribution of classes after removing the null entries\n",
    "df['language'].value_counts()"
   ]
  },
  {
   "cell_type": "markdown",
   "metadata": {},
   "source": [
    "## Cleaning function\n",
    "- First tokenize the words in a sentence, then return tokens that are alphabets.\n",
    "- Join the tokens back into a sentence, and convert the words into lowercases."
   ]
  },
  {
   "cell_type": "code",
   "execution_count": 46,
   "metadata": {},
   "outputs": [],
   "source": [
    "tok = WordPunctTokenizer()\n",
    "def document_cleaner(text):\n",
    "    words = [x for x in  tok.tokenize(text) if x.isalpha()]\n",
    "    words = \" \".join(words)\n",
    "    return(words.lower())"
   ]
  },
  {
   "cell_type": "code",
   "execution_count": 47,
   "metadata": {},
   "outputs": [],
   "source": [
    "# Defining the model \n",
    "lsvc = LinearSVC(C=0.1)\n",
    "count_vect = CountVectorizer(ngram_range=(1,1))#, encoding='latin-1')    "
   ]
  },
  {
   "cell_type": "markdown",
   "metadata": {},
   "source": [
    "## Main function to run the for training the model"
   ]
  },
  {
   "cell_type": "code",
   "execution_count": 48,
   "metadata": {},
   "outputs": [],
   "source": [
    "def main(df, p):\n",
    "    df['text'] = df['text'].apply(document_cleaner)\n",
    "    \"\"\" random oversampling technique to increase the number of minority classes/labels\"\"\"\n",
    "    ros = RandomOverSampler(random_state=777)\n",
    "    \"\"\"Split the data into 30% for training and 70% for testing \"\"\"\n",
    "    x_train, x_test, y_train, y_test = train_test_split(df['text'], df['language'], test_size=0.7, random_state=2000)\n",
    "  \n",
    "    x_train = count_vect.fit_transform(x_train)\n",
    "    \"\"\"Calculate Tfidf for Bi-grams\"\"\"\n",
    "    tfidf_vectorizer = TfidfVectorizer(use_idf=True, ngram_range=(1,2))\n",
    "    vectorize = TfidfTransformer()\n",
    "    x_train = vectorize.fit_transform(x_train)\n",
    "    X_ROS, y_ROS = ros.fit_sample(x_train, y_train)\n",
    "    \n",
    "    #fit the model\n",
    "    lsvc.fit(X_ROS, y_ROS)\n",
    "    \n",
    "    #prediction\n",
    "    prediction_1 = lsvc.predict(count_vect.transform(df['text']))\n",
    "    prediction_2 = lsvc.predict(count_vect.transform(x_test))\n",
    "    \n",
    "    print(\"LinearSVC Model: Bigram- Scores for the whole dataset\")\n",
    "    print(classification_report(prediction_1, df['language']))\n",
    "    print(\"LinearSVC Model: Bigram- Scores for the test dataset\")\n",
    "    print('Accuracy for the tese dataset:',accuracy_score(y_test, prediction_2))\n",
    "    print('Classification report:''\\n',classification_report(y_test, prediction_2))\n",
    "    print('Confusion matrix for the test dataset: ''\\n', confusion_matrix(y_test, prediction_2))\n",
    "    "
   ]
  },
  {
   "cell_type": "code",
   "execution_count": 49,
   "metadata": {},
   "outputs": [
    {
     "name": "stdout",
     "output_type": "stream",
     "text": [
      "LinearSVC Model: Bigram- Scores for the whole dataset\n",
      "              precision    recall  f1-score   support\n",
      "\n",
      "   Afrikaans       0.98      0.94      0.96       702\n",
      "     English       0.98      0.99      0.99      1962\n",
      "  Nederlands       0.94      0.95      0.94        81\n",
      "\n",
      "    accuracy                           0.98      2745\n",
      "   macro avg       0.97      0.96      0.96      2745\n",
      "weighted avg       0.98      0.98      0.98      2745\n",
      "\n",
      "LinearSVC Model: Bigram- Scores for the test dataset\n",
      "Accuracy for the tese dataset: 0.9745057232049948\n",
      "Classification report:\n",
      "               precision    recall  f1-score   support\n",
      "\n",
      "   Afrikaans       0.94      0.97      0.96       477\n",
      "     English       0.99      0.98      0.98      1391\n",
      "  Nederlands       0.92      0.91      0.92        54\n",
      "\n",
      "    accuracy                           0.97      1922\n",
      "   macro avg       0.95      0.95      0.95      1922\n",
      "weighted avg       0.97      0.97      0.97      1922\n",
      "\n",
      "Confusion matrix for the test dataset: \n",
      " [[ 462   14    1]\n",
      " [  26 1362    3]\n",
      " [   2    3   49]]\n",
      "None\n"
     ]
    }
   ],
   "source": [
    "print(main(df, 35))"
   ]
  },
  {
   "cell_type": "code",
   "execution_count": 50,
   "metadata": {},
   "outputs": [],
   "source": [
    "#Save model and the count_vect array (matrix)\n",
    "pickle.dump(lsvc, open('model_1.pkl','wb'))\n",
    "pickle.dump(count_vect, open('model_2.pkl', 'wb'))"
   ]
  },
  {
   "cell_type": "code",
   "execution_count": 51,
   "metadata": {},
   "outputs": [],
   "source": [
    "lsvc = pickle.load(open('model_1.pkl','rb'))\n",
    "count_vect = pickle.load(open('model_2.pkl', 'rb'))"
   ]
  },
  {
   "cell_type": "code",
   "execution_count": 52,
   "metadata": {},
   "outputs": [
    {
     "data": {
      "text/plain": [
       "2732                                       a priori\n",
       "2607                        great minds think alike\n",
       "1653    zoals de waard is vertrouwt hij zijn gasten\n",
       "835                                 bag and baggage\n",
       "763                                  below the belt\n",
       "                           ...                     \n",
       "508                    fall off the back of a lorry\n",
       "2208                   geld groei nie op my rug nie\n",
       "2273                      de puntjes op de i zetten\n",
       "1446                    chickens come home to roost\n",
       "2628                          christmas card verses\n",
       "Name: text, Length: 2745, dtype: object"
      ]
     },
     "execution_count": 52,
     "metadata": {},
     "output_type": "execute_result"
    }
   ],
   "source": [
    "df['text']"
   ]
  },
  {
   "cell_type": "code",
   "execution_count": null,
   "metadata": {},
   "outputs": [],
   "source": []
  },
  {
   "cell_type": "code",
   "execution_count": null,
   "metadata": {},
   "outputs": [],
   "source": []
  },
  {
   "cell_type": "code",
   "execution_count": null,
   "metadata": {},
   "outputs": [],
   "source": []
  },
  {
   "cell_type": "code",
   "execution_count": null,
   "metadata": {},
   "outputs": [],
   "source": []
  },
  {
   "cell_type": "code",
   "execution_count": null,
   "metadata": {},
   "outputs": [],
   "source": []
  },
  {
   "cell_type": "code",
   "execution_count": null,
   "metadata": {},
   "outputs": [],
   "source": []
  }
 ],
 "metadata": {
  "kernelspec": {
   "display_name": "Python 3",
   "language": "python",
   "name": "python3"
  },
  "language_info": {
   "codemirror_mode": {
    "name": "ipython",
    "version": 3
   },
   "file_extension": ".py",
   "mimetype": "text/x-python",
   "name": "python",
   "nbconvert_exporter": "python",
   "pygments_lexer": "ipython3",
   "version": "3.6.4"
  }
 },
 "nbformat": 4,
 "nbformat_minor": 2
}
